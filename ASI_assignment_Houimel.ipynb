{
 "cells": [
  {
   "cell_type": "markdown",
   "metadata": {},
   "source": [
    "----------------------------------------\n",
    "<h1 style=\"text-align:center\">ASI Assessed Exercise </h1>\n",
    "\n",
    "----------------------------------------\n",
    "\n",
    "<h3 style=\"text-align:left\">Student: Alaa HOUIMEL</h3>"
   ]
  },
  {
   "cell_type": "markdown",
   "metadata": {},
   "source": [
    "### Question 1\n",
    "******\n",
    "\n",
    "**a. Importing the MNIST Dataset:**"
   ]
  },
  {
   "cell_type": "markdown",
   "metadata": {},
   "source": [
    "We can have more insights on how to explore and import our dataset by looking at the original utils functions provided by Zalando research"
   ]
  },
  {
   "cell_type": "code",
   "execution_count": 40,
   "metadata": {},
   "outputs": [],
   "source": [
    "# this code  returns an iterator of 2-tuples with the first element being the label and the second element\n",
    "#being a numpy.uint8 2D array of pixel data for the given image.\n",
    "import os\n",
    "import struct\n",
    "import numpy as np\n",
    "\n",
    "def read(dataset = \"training\", path = \".\"):\n",
    "\n",
    "    if dataset is \"training\":\n",
    "        fname_img = os.path.join(path, 'train-images-idx3-ubyte')\n",
    "        fname_lbl = os.path.join(path, 'train-labels-idx1-ubyte')\n",
    "    elif dataset is \"testing\":\n",
    "        fname_img = os.path.join(path, 't10k-images-idx3-ubyte')\n",
    "        fname_lbl = os.path.join(path, 't10k-labels-idx1-ubyte')\n",
    "\n",
    "    with open(fname_lbl, 'rb') as flbl:\n",
    "        magic, num = struct.unpack(\">II\", flbl.read(8))  #offset 8\n",
    "        lbl = np.fromfile(flbl, dtype=np.int8)\n",
    "\n",
    "    with open(fname_img, 'rb') as fimg:\n",
    "        magic, num, rows, cols = struct.unpack(\">IIII\", fimg.read(16))\n",
    "        img = np.fromfile(fimg, dtype=np.uint8).reshape(len(lbl), rows, cols)\n",
    "    # this loads the data into np arrays\n",
    "    get_img = lambda idx: (lbl[idx], img[idx])\n",
    "\n",
    "    # Create an iterator which returns each image in turn\n",
    "    for i in range(len(lbl)):\n",
    "        yield get_img(i)\n",
    "\n",
    "def show(image):\n",
    "    from matplotlib import pyplot\n",
    "    import matplotlib as mpl\n",
    "    fig = pyplot.figure()\n",
    "    ax = fig.add_subplot(1,1,1)\n",
    "    imgplot = ax.imshow(image, cmap=mpl.cm.Greys)\n",
    "    imgplot.set_interpolation('nearest')\n",
    "    ax.xaxis.set_ticks_position('top')\n",
    "    ax.yaxis.set_ticks_position('left')\n",
    "    pyplot.show()"
   ]
  },
  {
   "cell_type": "raw",
   "metadata": {},
   "source": [
    "Label \tDescription\n",
    "0 \tT-shirt/top\n",
    "1 \tTrouser\n",
    "2 \tPullover\n",
    "3 \tDress\n",
    "4 \tCoat\n",
    "5 \tSandal\n",
    "6 \tShirt\n",
    "7 \tSneaker\n",
    "8 \tBag\n",
    "9 \tAnkle boot"
   ]
  },
  {
   "cell_type": "markdown",
   "metadata": {},
   "source": [
    ">Importing the training data:"
   ]
  },
  {
   "cell_type": "code",
   "execution_count": 41,
   "metadata": {},
   "outputs": [],
   "source": [
    "MNIST_training_data = list(read(dataset='training',path='fashionmnist/'))\n",
    "MNIST_training_labels = [MNIST_training_data[i][0] for i in range(len(MNIST_training_data))]"
   ]
  },
  {
   "cell_type": "markdown",
   "metadata": {},
   "source": [
    ">Plotting the first image in the training dataset:"
   ]
  },
  {
   "cell_type": "code",
   "execution_count": 12,
   "metadata": {},
   "outputs": [
    {
     "data": {
      "image/png": "[encoded data removed]",
      "text/plain": [
       "<Figure size 432x288 with 1 Axes>"
      ]
     },
     "metadata": {},
     "output_type": "display_data"
    }
   ],
   "source": [
    "show(MNIST_training_data[0][1])"
   ]
  },
  {
   "cell_type": "markdown",
   "metadata": {},
   "source": [
    ">Importing the test data:"
   ]
  },
  {
   "cell_type": "code",
   "execution_count": 42,
   "metadata": {},
   "outputs": [],
   "source": [
    "MNIST_test_data = list(read(dataset='testing',path='fashionmnist/'))\n",
    "MNIST_test_labels = [MNIST_test_data[i][0] for i in range(len(MNIST_test_data))]"
   ]
  },
  {
   "cell_type": "markdown",
   "metadata": {},
   "source": [
    "**b. Importing the CIFAR10 Dataset:**"
   ]
  },
  {
   "cell_type": "code",
   "execution_count": 43,
   "metadata": {},
   "outputs": [],
   "source": [
    "import numpy as np\n",
    "import pickle\n",
    "import os\n",
    "\n",
    "def _unpickle(filename):\n",
    "    file_path = os.path.join(\"cifar-10-batches-py/\", filename)\n",
    "    print(\"Loading data: \" + file_path)\n",
    "    with open(file_path, mode='rb') as file:\n",
    "        data = pickle.load(file, encoding='bytes')\n",
    "    return data\n",
    "\n",
    "def _convert_images(raw):\n",
    "    raw_float = np.array(raw, dtype=float) #/ 255.0\n",
    "    images = raw_float.reshape([-1, 3, 32, 32])\n",
    "    images = images.transpose([0, 2, 3, 1])\n",
    "    return images\n",
    "\n",
    "def _load_data(filename):\n",
    "    data = _unpickle(filename)\n",
    "    raw_images = data[b'data']\n",
    "    cls = np.array(data[b'labels'])\n",
    "    images = _convert_images(raw_images)\n",
    "    return images, cls\n",
    "\n",
    "def load_class_names():\n",
    "    raw = _unpickle(filename=\"batches.meta\")[b'label_names']\n",
    "    names = [x.decode('utf-8') for x in raw]\n",
    "    return names\n",
    "\n",
    "def load_training_data():\n",
    "    images = np.zeros(shape=[50000, 32, 32, 3], dtype=float)\n",
    "    cls = np.zeros(shape=[50000], dtype=int)\n",
    "    begin = 0\n",
    "    for i in range(5):\n",
    "        images_batch, cls_batch = _load_data(filename=\"data_batch_\" + str(i + 1))\n",
    "        num_images = len(images_batch)\n",
    "        end = begin + num_images\n",
    "        images[begin:end, :] = images_batch\n",
    "        cls[begin:end] = cls_batch\n",
    "        begin = end\n",
    "    return images, cls\n",
    "\n",
    "def load_test_data():\n",
    "    images, cls = _load_data(filename=\"test_batch\")\n",
    "    return images, cls"
   ]
  },
  {
   "cell_type": "code",
   "execution_count": 44,
   "metadata": {},
   "outputs": [],
   "source": [
    "import matplotlib.pyplot as plt\n",
    "def plot_images(images, cls_true, cls_pred=None, smooth=True):\n",
    "    assert len(images) == len(cls_true) == 9\n",
    "    fig, axes = plt.subplots(3, 3)\n",
    "    if cls_pred is None:\n",
    "        hspace = 0.3\n",
    "    else:\n",
    "        hspace = 0.6\n",
    "    fig.subplots_adjust(hspace=hspace, wspace=0.3)\n",
    "\n",
    "    for i, ax in enumerate(axes.flat):\n",
    "        if smooth:\n",
    "            interpolation = 'spline16'\n",
    "        else:\n",
    "            interpolation = 'nearest'\n",
    "        ax.imshow(images[i, :, :, :],\n",
    "                  interpolation=interpolation)\n",
    "        cls_true_name = class_names[cls_true[i]]\n",
    "        if cls_pred is None:\n",
    "            xlabel = \"True: {0}\".format(cls_true_name)\n",
    "        else:\n",
    "            cls_pred_name = class_names[cls_pred[i]]\n",
    "            xlabel = \"True: {0}\\nPred: {1}\".format(cls_true_name, cls_pred_name)\n",
    "        ax.set_xlabel(xlabel)\n",
    "        ax.set_xticks([])\n",
    "        ax.set_yticks([])\n",
    "    plt.show()"
   ]
  },
  {
   "cell_type": "markdown",
   "metadata": {},
   "source": [
    ">Importing the training data:"
   ]
  },
  {
   "cell_type": "code",
   "execution_count": 45,
   "metadata": {
    "scrolled": true
   },
   "outputs": [
    {
     "name": "stdout",
     "output_type": "stream",
     "text": [
      "Loading data: cifar-10-batches-py/data_batch_1\n",
      "Loading data: cifar-10-batches-py/data_batch_2\n",
      "Loading data: cifar-10-batches-py/data_batch_3\n",
      "Loading data: cifar-10-batches-py/data_batch_4\n",
      "Loading data: cifar-10-batches-py/data_batch_5\n"
     ]
    }
   ],
   "source": [
    "images, classes = load_training_data()"
   ]
  },
  {
   "cell_type": "markdown",
   "metadata": {},
   "source": [
    ">Plotting the first 9 images in the training dataset:"
   ]
  },
  {
   "cell_type": "code",
   "execution_count": 46,
   "metadata": {},
   "outputs": [
    {
     "name": "stdout",
     "output_type": "stream",
     "text": [
      "Loading data: cifar-10-batches-py/batches.meta\n"
     ]
    },
    {
     "data": {
      "image/png": "[encoded data removed]",
      "text/plain": [
       "<Figure size 432x288 with 9 Axes>"
      ]
     },
     "metadata": {},
     "output_type": "display_data"
    }
   ],
   "source": [
    "im = images[0:9]/255.0\n",
    "class_names = load_class_names()\n",
    "cls_true = classes[0:9]\n",
    "plot_images(images=im, cls_true=cls_true, smooth=False)"
   ]
  },
  {
   "cell_type": "markdown",
   "metadata": {},
   "source": [
    ">Importing the test data:"
   ]
  },
  {
   "cell_type": "code",
   "execution_count": 47,
   "metadata": {
    "scrolled": true
   },
   "outputs": [
    {
     "name": "stdout",
     "output_type": "stream",
     "text": [
      "Loading data: cifar-10-batches-py/test_batch\n"
     ]
    }
   ],
   "source": [
    "test_images, test_classes = load_test_data()"
   ]
  },
  {
   "cell_type": "markdown",
   "metadata": {},
   "source": [
    "### Question 2\n",
    "******\n",
    "\n",
    "**a. MNIST dataset:**"
   ]
  },
  {
   "cell_type": "code",
   "execution_count": 48,
   "metadata": {},
   "outputs": [
    {
     "data": {
      "text/html": [
       "<div>\n",
       "<style scoped>\n",
       "    .dataframe tbody tr th:only-of-type {\n",
       "        vertical-align: middle;\n",
       "    }\n",
       "\n",
       "    .dataframe tbody tr th {\n",
       "        vertical-align: top;\n",
       "    }\n",
       "\n",
       "    .dataframe thead th {\n",
       "        text-align: right;\n",
       "    }\n",
       "</style>\n",
       "<table border=\"1\" class=\"dataframe\">\n",
       "  <thead>\n",
       "    <tr style=\"text-align: right;\">\n",
       "      <th></th>\n",
       "      <th>0</th>\n",
       "      <th>1</th>\n",
       "      <th>2</th>\n",
       "      <th>3</th>\n",
       "      <th>4</th>\n",
       "      <th>5</th>\n",
       "      <th>6</th>\n",
       "      <th>7</th>\n",
       "      <th>8</th>\n",
       "      <th>9</th>\n",
       "    </tr>\n",
       "  </thead>\n",
       "  <tbody>\n",
       "    <tr>\n",
       "      <th>Classes</th>\n",
       "      <td>0</td>\n",
       "      <td>1</td>\n",
       "      <td>2</td>\n",
       "      <td>3</td>\n",
       "      <td>4</td>\n",
       "      <td>5</td>\n",
       "      <td>6</td>\n",
       "      <td>7</td>\n",
       "      <td>8</td>\n",
       "      <td>9</td>\n",
       "    </tr>\n",
       "    <tr>\n",
       "      <th>Occurrence</th>\n",
       "      <td>6000</td>\n",
       "      <td>6000</td>\n",
       "      <td>6000</td>\n",
       "      <td>6000</td>\n",
       "      <td>6000</td>\n",
       "      <td>6000</td>\n",
       "      <td>6000</td>\n",
       "      <td>6000</td>\n",
       "      <td>6000</td>\n",
       "      <td>6000</td>\n",
       "    </tr>\n",
       "  </tbody>\n",
       "</table>\n",
       "</div>"
      ],
      "text/plain": [
       "               0     1     2     3     4     5     6     7     8     9\n",
       "Classes        0     1     2     3     4     5     6     7     8     9\n",
       "Occurrence  6000  6000  6000  6000  6000  6000  6000  6000  6000  6000"
      ]
     },
     "execution_count": 48,
     "metadata": {},
     "output_type": "execute_result"
    }
   ],
   "source": [
    "from collections import Counter\n",
    "import pandas as pd\n",
    "distributionOfClasses = Counter(MNIST_training_labels)\n",
    "pd.DataFrame(np.column_stack([range(10),[distributionOfClasses[i] for i in range(10)]]), columns=['Classes','Occurrence']).transpose()"
   ]
  },
  {
   "cell_type": "markdown",
   "metadata": {},
   "source": [
    ">**Comment**\n",
    "\n",
    ">The classes are: 0,1,2,3,4,5,6,7,8,9\n",
    "\n",
    ">The distribution of the class labels is perfectly uniform. So calculating the prior distribution (the probability of each class) will have no impact on the prediction later.\n",
    "\n",
    ">The input is a set of 60000 images of 28x28pixels. Depending on the processing that will be applied, training the models will take time since the dataset is quite big."
   ]
  },
  {
   "cell_type": "markdown",
   "metadata": {},
   "source": [
    "**b. CIFAR10 dataset:**"
   ]
  },
  {
   "cell_type": "code",
   "execution_count": 49,
   "metadata": {
    "scrolled": true
   },
   "outputs": [
    {
     "name": "stdout",
     "output_type": "stream",
     "text": [
      "Loading data: cifar-10-batches-py/batches.meta\n",
      "['airplane', 'automobile', 'bird', 'cat', 'deer', 'dog', 'frog', 'horse', 'ship', 'truck']\n"
     ]
    }
   ],
   "source": [
    "class_names = load_class_names()\n",
    "print(class_names)"
   ]
  },
  {
   "cell_type": "code",
   "execution_count": 50,
   "metadata": {},
   "outputs": [
    {
     "data": {
      "text/html": [
       "<div>\n",
       "<style scoped>\n",
       "    .dataframe tbody tr th:only-of-type {\n",
       "        vertical-align: middle;\n",
       "    }\n",
       "\n",
       "    .dataframe tbody tr th {\n",
       "        vertical-align: top;\n",
       "    }\n",
       "\n",
       "    .dataframe thead th {\n",
       "        text-align: right;\n",
       "    }\n",
       "</style>\n",
       "<table border=\"1\" class=\"dataframe\">\n",
       "  <thead>\n",
       "    <tr style=\"text-align: right;\">\n",
       "      <th></th>\n",
       "      <th>0</th>\n",
       "      <th>1</th>\n",
       "      <th>2</th>\n",
       "      <th>3</th>\n",
       "      <th>4</th>\n",
       "      <th>5</th>\n",
       "      <th>6</th>\n",
       "      <th>7</th>\n",
       "      <th>8</th>\n",
       "      <th>9</th>\n",
       "    </tr>\n",
       "  </thead>\n",
       "  <tbody>\n",
       "    <tr>\n",
       "      <th>Classes</th>\n",
       "      <td>airplane</td>\n",
       "      <td>automobile</td>\n",
       "      <td>bird</td>\n",
       "      <td>cat</td>\n",
       "      <td>deer</td>\n",
       "      <td>dog</td>\n",
       "      <td>frog</td>\n",
       "      <td>horse</td>\n",
       "      <td>ship</td>\n",
       "      <td>truck</td>\n",
       "    </tr>\n",
       "    <tr>\n",
       "      <th>Occurrence</th>\n",
       "      <td>5000</td>\n",
       "      <td>5000</td>\n",
       "      <td>5000</td>\n",
       "      <td>5000</td>\n",
       "      <td>5000</td>\n",
       "      <td>5000</td>\n",
       "      <td>5000</td>\n",
       "      <td>5000</td>\n",
       "      <td>5000</td>\n",
       "      <td>5000</td>\n",
       "    </tr>\n",
       "  </tbody>\n",
       "</table>\n",
       "</div>"
      ],
      "text/plain": [
       "                   0           1     2     3     4     5     6      7     8  \\\n",
       "Classes     airplane  automobile  bird   cat  deer   dog  frog  horse  ship   \n",
       "Occurrence      5000        5000  5000  5000  5000  5000  5000   5000  5000   \n",
       "\n",
       "                9  \n",
       "Classes     truck  \n",
       "Occurrence   5000  "
      ]
     },
     "execution_count": 50,
     "metadata": {},
     "output_type": "execute_result"
    }
   ],
   "source": [
    "from collections import Counter\n",
    "distributionOfClasses = Counter(classes)\n",
    "distributionOfClasses\n",
    "pd.DataFrame(np.column_stack([class_names,[distributionOfClasses[i] for i in range(10)]]), columns=['Classes','Occurrence']).transpose()"
   ]
  },
  {
   "cell_type": "markdown",
   "metadata": {},
   "source": [
    ">**Comment**\n",
    "\n",
    ">The classes are: 'airplane', 'automobile', 'bird', 'cat', 'deer', 'dog', 'frog', 'horse', 'ship', 'truck'\n",
    "\n",
    ">The distribution of the class labels is perfectly uniform in this case also. So calculating the prior distribution (the probability of each class) will have no impact on the prediction later.\n",
    "\n",
    ">The input is a set of 50000 images of 32x32x3pixels. So in this case, we have 2 additionnal layers(channels for colors) that will make the computations more complicated."
   ]
  },
  {
   "cell_type": "markdown",
   "metadata": {},
   "source": [
    "### Question 3\n",
    "******\n",
    "\n",
    "**a. Implementing the Naive Bayes Classifier:**"
   ]
  },
  {
   "cell_type": "code",
   "execution_count": 51,
   "metadata": {},
   "outputs": [],
   "source": [
    "def separateByClass(dataset, classes):\n",
    "    separated = {}\n",
    "    for i in range(len(classes)):\n",
    "        if (classes[i] not in separated):\n",
    "            separated[classes[i]] = []\n",
    "        separated[classes[i]].append(dataset[i])\n",
    "    return separated"
   ]
  },
  {
   "cell_type": "code",
   "execution_count": 52,
   "metadata": {},
   "outputs": [],
   "source": [
    "#I opted for a \"naively\" simple and explicitly expanded code adequate for these datasets. Nothing better than a code down to\n",
    "# lowest levels to understand what really happens\n",
    "# we calculate the means and variance in order to compute the likelihood \n",
    "def summarizeByClass(dataset, size, n_layers):\n",
    "    summaries={}\n",
    "    for a,b in dataset.items():\n",
    "        if(n_layers==1):\n",
    "            variance=[0]*size*size\n",
    "            means = [0]*size*size\n",
    "        else:\n",
    "            variance=np.array([[0.0,0.0,0.0]]*size*size)\n",
    "            means = np.array([[0.0,0.0,0.0]]*size*size)\n",
    "        l=0\n",
    "        for j in range(size):\n",
    "            for k in range(size):\n",
    "                for i in range (len(b)):\n",
    "                    means[l] += np.array(b[i][j][k])\n",
    "                means[l]= means[l]/float(len(b))\n",
    "                for i in range (len(b)):\n",
    "                    if (pow(np.array(b[i][j][k])-means[l],2) != 0) :\n",
    "                        variance[l]+= pow(np.array(b[i][j][k])-means[l],2)\n",
    "                    else :\n",
    "                        variance[l]+=0.001\n",
    "                variance[l]= variance[l]/float(len(b))\n",
    "                l+=1\n",
    "        if(n_layers==3):\n",
    "            v0 = [y[0] for y in variance]       \n",
    "            v1 = [y[1] for y in variance]\n",
    "            v2 = [y[2] for y in variance]\n",
    "            for h in range(len(variance)):\n",
    "                # we replace 0-variances with a low value (0.001 )in order to avoid calculation problems \n",
    "                # we also normalize\n",
    "                if (v0[h]<50) and (v0[h]>0):\n",
    "                    variance[h][0] /=100.0\n",
    "                elif(v0[h]==0):\n",
    "                    variance[h][0]=0.001\n",
    "                else:\n",
    "                    variance[h][0]=2\n",
    "                    \n",
    "                if (v1[h]<50) and (v1[h]>0):\n",
    "                    variance[h][1] /= 100.0\n",
    "                elif(v1[h]==0):\n",
    "                    variance[h][1]=0.001\n",
    "                else:\n",
    "                    variance[h][1]=2\n",
    "                    \n",
    "                if (v2[h]<50) and (v2[h]>0):\n",
    "                    variance[h][2] /= 100.0\n",
    "                elif(v2[h]==0):\n",
    "                    variance[h][2]=0.001\n",
    "                else:\n",
    "                    variance[h][2]=2\n",
    "                \n",
    "        else:\n",
    "            for h in range(len(variance)):\n",
    "                if (variance[h]<50) and (variance[h]>0):\n",
    "                    variance[h] /=100.0\n",
    "                elif variance[h]==0 :\n",
    "                    variance[h]=0.001\n",
    "                else:\n",
    "                    variance[h]=2 \n",
    "        summaries[a] = [i for i in zip(means,variance)]     \n",
    "    return summaries"
   ]
  },
  {
   "cell_type": "code",
   "execution_count": 53,
   "metadata": {},
   "outputs": [],
   "source": [
    "import math\n",
    "from collections import Counter\n",
    "\n",
    "def logProbability(x, mean, stdev, n_layers):\n",
    "    if(n_layers==1):\n",
    "        logexp = -(math.pow(x-mean,2)/(2*math.pow(stdev,2)))\n",
    "        return logexp-math.log(math.sqrt(2*math.pi) * stdev) \n",
    "    else:\n",
    "        logexp = -np.divide((pow(x-mean,2)),(2*pow(stdev,2)))\n",
    "        return logexp-np.array([math.log(math.sqrt(2*math.pi) * st) for st in stdev])\n",
    "\n",
    "def calculateClassProbabilities(s, inputMatrix, size, n_layers):\n",
    "    logProbabilities = {}\n",
    "    for a, b in s.items():\n",
    "        if n_layers==1:\n",
    "            logProbabilities[a] = 0\n",
    "        else:\n",
    "            logProbabilities[a] = np.array([0.0,0.0,0.0])\n",
    "        i=0\n",
    "        for j in range(size):\n",
    "            inputVector = inputMatrix[j]\n",
    "            for k in range(size):\n",
    "                mean, stdev = b[i]\n",
    "                x = inputVector[k]\n",
    "                if n_layers==1:\n",
    "                    aux= logProbability(x, mean, stdev, n_layers)\n",
    "                else:\n",
    "                    aux= logProbability(np.array(x), np.array(mean), np.array(stdev), n_layers)\n",
    "                logProbabilities[a] += aux\n",
    "                i+=1\n",
    "        if n_layers==3:\n",
    "            logProbabilities[a]= sum(logProbabilities[a])\n",
    "    return logProbabilities"
   ]
  },
  {
   "cell_type": "code",
   "execution_count": 54,
   "metadata": {},
   "outputs": [],
   "source": [
    "def predict(summaries, inputMatrix, label, size, n_layers):\n",
    "    probabilities = calculateClassProbabilities(summaries, inputMatrix, size, n_layers)\n",
    "    bestLabel, bestProb = None, -1\n",
    "    true_log_prob=probabilities[label]\n",
    "    for classValue, probability in probabilities.items():\n",
    "        if bestLabel is None or probability > bestProb:\n",
    "            bestProb = probability\n",
    "            bestLabel = classValue\n",
    "    return bestLabel, true_log_prob\n",
    "\n",
    "def getPredictions(summaries, testSet, test_labels, training_labels, size, n_layers):\n",
    "    predictions = []\n",
    "    log_likelihood= 0\n",
    "    for i in range(len(testSet)):\n",
    "        result, true_log_prob = predict(summaries, testSet[i].tolist(), test_labels[i], size, n_layers)\n",
    "        predictions.append(result)\n",
    "        log_likelihood+=true_log_prob\n",
    "    return predictions, log_likelihood/len(testSet)  #mean over all the test dataset\n",
    "\n",
    "def getAccuracy(testLabels, predictions):\n",
    "    correct = 0\n",
    "    for x in range(len(testLabels)):\n",
    "        if testLabels[x] == predictions[x]:\n",
    "            correct += 1\n",
    "    return (correct/float(len(testLabels))) * 100.0"
   ]
  },
  {
   "cell_type": "code",
   "execution_count": 55,
   "metadata": {},
   "outputs": [],
   "source": [
    "import time\n",
    "def NBC(training_data, training_labels, test_data, test_labels, size, n_layers):\n",
    "    sep = separateByClass(training_data, training_labels)\n",
    "    summaries = summarizeByClass(sep, size, n_layers)\n",
    "    t0= time.time()\n",
    "    predictions, log_likelihood = getPredictions(summaries, test_data, test_labels, training_labels, size, n_layers)\n",
    "    print('Time spent on prediction: ',time.time()-t0)\n",
    "    accuracy = getAccuracy(test_labels, predictions)\n",
    "    print(\"Test Accuracy: \",accuracy,\"%\")\n",
    "    print(\"Log-likelihood: \", log_likelihood)\n",
    "    return predictions"
   ]
  },
  {
   "cell_type": "markdown",
   "metadata": {},
   "source": [
    "**b. Positive and Negative feature of the Naive Bayes Classifier:**"
   ]
  },
  {
   "cell_type": "markdown",
   "metadata": {},
   "source": [
    ">**Answer**\n",
    "\n",
    ">Positive feature: The naive Bayes Classifier is quite simple to implement and easy to understand, and it surprisingly delivers good results when compared to other more sophisticated classifiers (under the right circumstances )\n",
    "\n",
    ">Negative feature: It fundamnetally relies on the unlikely assumption of conditional independence (which is usually not the case). . the naive bayes classifier also performs poorly when we're dealing with high dimensional datasets. this can lead to numerical instabilities especially when calculating likelihoods since computational approxiamtions could easily round down low values to zero "
   ]
  },
  {
   "cell_type": "markdown",
   "metadata": {},
   "source": [
    "**c. Data preprocessing:**"
   ]
  },
  {
   "cell_type": "markdown",
   "metadata": {},
   "source": [
    ">**Answer**\n",
    "\n",
    ">Data processing can have quite the influence on the naive bayes classifier's performance (because as we said it highly depends on the dimensionality of the problem) .\n",
    "We have many ways to tackle this point. for starters we could trie to normalize all the values of the pixels to be in the interval [0,1] by dividing over 255 (max value for pixels). But, the results weren't good enough. I decided to work with the actual values between 0 and 255.\n",
    "\n",
    ">we can also consider variance threshholding to reduce our dimensionality and try to numerically stabilize our values.\n",
    "A problem when choosing the gaussian distribution for each pixel of the same class was that there were a lot of \"certain\" values with zero variance and others with so high variance (this can be explained especially for the MNIST data because of the common background in the images). We can assign a low value (<<<1) for these (zero) variances to avoid computational problems. For the points that have high variances (I chose 50 as a threshold), I fixed their variances to 2. For the rest of variances, I divided them by 100 to have a low variance and concentrate them around their means. The choice of these values was more emperical than theoretical.\n",
    "\n",
    ">In the case of CIFAR, it could be a good idea to convert the RGB images into B&W, since the RGB can lead to underfitting due to the vast amount of features (color can change gratly between images of the same class, cars don't always have the same color!) \n",
    "\n",
    "> more ideas could be applied to improve our classifier , like Principal compoment analysis, and additionally, we could perform outlier detection and filtering. A simplistic approach would be to get rid of features spaced more than 1 or 2 standard deviations from the mean for that particular feature, but it could lead to overfiltering. The formal approach would involve using some clustering method such as K-Means and compute the outlier detection based on it. "
   ]
  },
  {
   "cell_type": "markdown",
   "metadata": {},
   "source": [
    "There are some other posibilites for the data preprocessing, such as:\n",
    "> **Feature expansion**: since we know already that the images have a very strong spatial correlation, we could use convolutional filtering on it with a set of filters (either a standard set as used in image compression like in JPEG or a crafted set of filters obtained from the convolutional layers of a trained Convolutional Neural Network) and add those results as new features. There are other ways to expand the features, but the best ones should make up for the loss of spatial correlation (max/mean pooling could also help).\n",
    "\n",
    "> **Data reduction** using approaches such as Prinipal Component Analysis, which would help against the high number of dark pixels present in the images. However, since NBC is not very sensible to irrelevant features, we shouldn't expect much from this approach."
   ]
  },
  {
   "cell_type": "markdown",
   "metadata": {},
   "source": [
    "**d. Application of the NBC on the two datasets:**"
   ]
  },
  {
   "cell_type": "markdown",
   "metadata": {},
   "source": [
    ">**Comments**\n",
    "\n",
    ">Since the probabilities are between 0 and 1, the product of a large number of them will result in a so small value that would be considered as 0 which is not practical. That's why I used log-probabilities instead of the probabilities themselves since the log is an increasing function, the log of the product of the probabilities to calculate the likelihood becomes a sum of log-probabilities.\n",
    "\n",
    ">Another thing is that since we assumed that the prior distribution was uniform, the expression to calculate the probability of the class given the point was simplified to be equal the likelihood.\n",
    "\n",
    "Note: the resulting log likelihood are numerically high because of the variance preprocessing. it makes assessing the classifier's performance a bit more difficult to interpret wrt the log likelihood , but on the other hand it improves our overall accuracy . I'm personally not even mad about it."
   ]
  },
  {
   "cell_type": "code",
   "execution_count": 35,
   "metadata": {},
   "outputs": [
    {
     "name": "stdout",
     "output_type": "stream",
     "text": [
      "Time spent on prediction:  220.6109483242035\n",
      "Test Accuracy:  69.33 %\n",
      "Log-likelihood:  -20912240231.05557\n"
     ]
    }
   ],
   "source": [
    "MNIST_training_data_stripped = [MNIST_training_data[i][1] for i in range(len(MNIST_training_data))]\n",
    "MNIST_test_data_stripped = [MNIST_test_data[i][1] for i in range(len(MNIST_test_data))]\n",
    "\n",
    "predictions= NBC(MNIST_training_data_stripped, MNIST_training_labels, MNIST_test_data_stripped, MNIST_test_labels, 28, 1)"
   ]
  },
  {
   "cell_type": "code",
   "execution_count": 19,
   "metadata": {},
   "outputs": [
    {
     "name": "stdout",
     "output_type": "stream",
     "text": [
      "Time spent on prediction:  1938.8577723503113\n",
      "Test Accuracy:  27.74 %\n",
      "Log-likelihood:  -14380180452.866789\n"
     ]
    }
   ],
   "source": [
    "cifar_predictions = NBC(images, classes, test_images, test_classes, 32, 3)"
   ]
  },
  {
   "cell_type": "markdown",
   "metadata": {},
   "source": [
    "**e. Confusion Matrices:**"
   ]
  },
  {
   "cell_type": "markdown",
   "metadata": {},
   "source": [
    ">On MNIST test dataset"
   ]
  },
  {
   "cell_type": "code",
   "execution_count": 20,
   "metadata": {},
   "outputs": [
    {
     "data": {
      "text/html": [
       "<div>\n",
       "<style scoped>\n",
       "    .dataframe tbody tr th:only-of-type {\n",
       "        vertical-align: middle;\n",
       "    }\n",
       "\n",
       "    .dataframe tbody tr th {\n",
       "        vertical-align: top;\n",
       "    }\n",
       "\n",
       "    .dataframe thead th {\n",
       "        text-align: right;\n",
       "    }\n",
       "</style>\n",
       "<table border=\"1\" class=\"dataframe\">\n",
       "  <thead>\n",
       "    <tr style=\"text-align: right;\">\n",
       "      <th></th>\n",
       "      <th>0</th>\n",
       "      <th>1</th>\n",
       "      <th>2</th>\n",
       "      <th>3</th>\n",
       "      <th>4</th>\n",
       "      <th>5</th>\n",
       "      <th>6</th>\n",
       "      <th>7</th>\n",
       "      <th>8</th>\n",
       "      <th>9</th>\n",
       "    </tr>\n",
       "  </thead>\n",
       "  <tbody>\n",
       "    <tr>\n",
       "      <th>0</th>\n",
       "      <td>712</td>\n",
       "      <td>34</td>\n",
       "      <td>11</td>\n",
       "      <td>47</td>\n",
       "      <td>2</td>\n",
       "      <td>0</td>\n",
       "      <td>198</td>\n",
       "      <td>0</td>\n",
       "      <td>0</td>\n",
       "      <td>0</td>\n",
       "    </tr>\n",
       "    <tr>\n",
       "      <th>1</th>\n",
       "      <td>2</td>\n",
       "      <td>800</td>\n",
       "      <td>2</td>\n",
       "      <td>3</td>\n",
       "      <td>3</td>\n",
       "      <td>0</td>\n",
       "      <td>2</td>\n",
       "      <td>0</td>\n",
       "      <td>1</td>\n",
       "      <td>0</td>\n",
       "    </tr>\n",
       "    <tr>\n",
       "      <th>2</th>\n",
       "      <td>11</td>\n",
       "      <td>7</td>\n",
       "      <td>455</td>\n",
       "      <td>2</td>\n",
       "      <td>245</td>\n",
       "      <td>0</td>\n",
       "      <td>126</td>\n",
       "      <td>0</td>\n",
       "      <td>3</td>\n",
       "      <td>0</td>\n",
       "    </tr>\n",
       "    <tr>\n",
       "      <th>3</th>\n",
       "      <td>146</td>\n",
       "      <td>135</td>\n",
       "      <td>9</td>\n",
       "      <td>841</td>\n",
       "      <td>81</td>\n",
       "      <td>0</td>\n",
       "      <td>90</td>\n",
       "      <td>0</td>\n",
       "      <td>56</td>\n",
       "      <td>2</td>\n",
       "    </tr>\n",
       "    <tr>\n",
       "      <th>4</th>\n",
       "      <td>11</td>\n",
       "      <td>5</td>\n",
       "      <td>166</td>\n",
       "      <td>34</td>\n",
       "      <td>483</td>\n",
       "      <td>0</td>\n",
       "      <td>154</td>\n",
       "      <td>0</td>\n",
       "      <td>8</td>\n",
       "      <td>0</td>\n",
       "    </tr>\n",
       "    <tr>\n",
       "      <th>5</th>\n",
       "      <td>0</td>\n",
       "      <td>0</td>\n",
       "      <td>0</td>\n",
       "      <td>2</td>\n",
       "      <td>1</td>\n",
       "      <td>848</td>\n",
       "      <td>0</td>\n",
       "      <td>212</td>\n",
       "      <td>20</td>\n",
       "      <td>65</td>\n",
       "    </tr>\n",
       "    <tr>\n",
       "      <th>6</th>\n",
       "      <td>86</td>\n",
       "      <td>17</td>\n",
       "      <td>338</td>\n",
       "      <td>67</td>\n",
       "      <td>175</td>\n",
       "      <td>4</td>\n",
       "      <td>372</td>\n",
       "      <td>0</td>\n",
       "      <td>35</td>\n",
       "      <td>11</td>\n",
       "    </tr>\n",
       "    <tr>\n",
       "      <th>7</th>\n",
       "      <td>0</td>\n",
       "      <td>0</td>\n",
       "      <td>0</td>\n",
       "      <td>0</td>\n",
       "      <td>0</td>\n",
       "      <td>79</td>\n",
       "      <td>0</td>\n",
       "      <td>705</td>\n",
       "      <td>3</td>\n",
       "      <td>53</td>\n",
       "    </tr>\n",
       "    <tr>\n",
       "      <th>8</th>\n",
       "      <td>32</td>\n",
       "      <td>2</td>\n",
       "      <td>19</td>\n",
       "      <td>4</td>\n",
       "      <td>10</td>\n",
       "      <td>12</td>\n",
       "      <td>58</td>\n",
       "      <td>15</td>\n",
       "      <td>873</td>\n",
       "      <td>25</td>\n",
       "    </tr>\n",
       "    <tr>\n",
       "      <th>9</th>\n",
       "      <td>0</td>\n",
       "      <td>0</td>\n",
       "      <td>0</td>\n",
       "      <td>0</td>\n",
       "      <td>0</td>\n",
       "      <td>57</td>\n",
       "      <td>0</td>\n",
       "      <td>68</td>\n",
       "      <td>1</td>\n",
       "      <td>844</td>\n",
       "    </tr>\n",
       "  </tbody>\n",
       "</table>\n",
       "</div>"
      ],
      "text/plain": [
       "     0    1    2    3    4    5    6    7    8    9\n",
       "0  712   34   11   47    2    0  198    0    0    0\n",
       "1    2  800    2    3    3    0    2    0    1    0\n",
       "2   11    7  455    2  245    0  126    0    3    0\n",
       "3  146  135    9  841   81    0   90    0   56    2\n",
       "4   11    5  166   34  483    0  154    0    8    0\n",
       "5    0    0    0    2    1  848    0  212   20   65\n",
       "6   86   17  338   67  175    4  372    0   35   11\n",
       "7    0    0    0    0    0   79    0  705    3   53\n",
       "8   32    2   19    4   10   12   58   15  873   25\n",
       "9    0    0    0    0    0   57    0   68    1  844"
      ]
     },
     "execution_count": 20,
     "metadata": {},
     "output_type": "execute_result"
    }
   ],
   "source": [
    "from collections import Counter\n",
    "ctr = Counter([(x,y) for x,y in zip(predictions, MNIST_test_labels)])\n",
    "Mat=[]\n",
    "for i in range(10):\n",
    "    l=[]\n",
    "    for j in range(10):\n",
    "        l+=[ctr[(i,j)]]\n",
    "    Mat+=[l]\n",
    "    \n",
    "pd.DataFrame(data=Mat)"
   ]
  },
  {
   "cell_type": "code",
   "execution_count": 21,
   "metadata": {},
   "outputs": [
    {
     "data": {
      "image/png": "[encoded data removed]",
      "text/plain": [
       "<matplotlib.figure.Figure at 0x7ff25f3730b8>"
      ]
     },
     "metadata": {},
     "output_type": "display_data"
    }
   ],
   "source": [
    "fig = plt.figure(figsize=(10,5))\n",
    "ax = fig.add_subplot(1,1,1)\n",
    "plt.title(\"MNIST: Predictions vs True Targets\")\n",
    "plt.grid()\n",
    "x = ax.scatter(np.array(MNIST_test_labels), np.array(predictions),s=100, c='blue', alpha=.007)\n",
    "plt.xlabel(\"True targets\")\n",
    "plt.ylabel(\"Predictions\")\n",
    "plt.show()"
   ]
  },
  {
   "cell_type": "markdown",
   "metadata": {},
   "source": [
    ">On CIFAR10 test dataset"
   ]
  },
  {
   "cell_type": "code",
   "execution_count": 22,
   "metadata": {},
   "outputs": [
    {
     "data": {
      "text/html": [
       "<div>\n",
       "<style scoped>\n",
       "    .dataframe tbody tr th:only-of-type {\n",
       "        vertical-align: middle;\n",
       "    }\n",
       "\n",
       "    .dataframe tbody tr th {\n",
       "        vertical-align: top;\n",
       "    }\n",
       "\n",
       "    .dataframe thead th {\n",
       "        text-align: right;\n",
       "    }\n",
       "</style>\n",
       "<table border=\"1\" class=\"dataframe\">\n",
       "  <thead>\n",
       "    <tr style=\"text-align: right;\">\n",
       "      <th></th>\n",
       "      <th>0</th>\n",
       "      <th>1</th>\n",
       "      <th>2</th>\n",
       "      <th>3</th>\n",
       "      <th>4</th>\n",
       "      <th>5</th>\n",
       "      <th>6</th>\n",
       "      <th>7</th>\n",
       "      <th>8</th>\n",
       "      <th>9</th>\n",
       "    </tr>\n",
       "  </thead>\n",
       "  <tbody>\n",
       "    <tr>\n",
       "      <th>0</th>\n",
       "      <td>539</td>\n",
       "      <td>149</td>\n",
       "      <td>254</td>\n",
       "      <td>171</td>\n",
       "      <td>107</td>\n",
       "      <td>167</td>\n",
       "      <td>114</td>\n",
       "      <td>148</td>\n",
       "      <td>215</td>\n",
       "      <td>152</td>\n",
       "    </tr>\n",
       "    <tr>\n",
       "      <th>1</th>\n",
       "      <td>54</td>\n",
       "      <td>186</td>\n",
       "      <td>46</td>\n",
       "      <td>31</td>\n",
       "      <td>30</td>\n",
       "      <td>22</td>\n",
       "      <td>34</td>\n",
       "      <td>46</td>\n",
       "      <td>90</td>\n",
       "      <td>118</td>\n",
       "    </tr>\n",
       "    <tr>\n",
       "      <th>2</th>\n",
       "      <td>23</td>\n",
       "      <td>11</td>\n",
       "      <td>107</td>\n",
       "      <td>38</td>\n",
       "      <td>78</td>\n",
       "      <td>45</td>\n",
       "      <td>44</td>\n",
       "      <td>19</td>\n",
       "      <td>7</td>\n",
       "      <td>6</td>\n",
       "    </tr>\n",
       "    <tr>\n",
       "      <th>3</th>\n",
       "      <td>14</td>\n",
       "      <td>18</td>\n",
       "      <td>12</td>\n",
       "      <td>56</td>\n",
       "      <td>14</td>\n",
       "      <td>40</td>\n",
       "      <td>19</td>\n",
       "      <td>20</td>\n",
       "      <td>9</td>\n",
       "      <td>9</td>\n",
       "    </tr>\n",
       "    <tr>\n",
       "      <th>4</th>\n",
       "      <td>19</td>\n",
       "      <td>30</td>\n",
       "      <td>65</td>\n",
       "      <td>29</td>\n",
       "      <td>119</td>\n",
       "      <td>37</td>\n",
       "      <td>23</td>\n",
       "      <td>78</td>\n",
       "      <td>11</td>\n",
       "      <td>21</td>\n",
       "    </tr>\n",
       "    <tr>\n",
       "      <th>5</th>\n",
       "      <td>40</td>\n",
       "      <td>56</td>\n",
       "      <td>78</td>\n",
       "      <td>185</td>\n",
       "      <td>101</td>\n",
       "      <td>286</td>\n",
       "      <td>90</td>\n",
       "      <td>107</td>\n",
       "      <td>92</td>\n",
       "      <td>30</td>\n",
       "    </tr>\n",
       "    <tr>\n",
       "      <th>6</th>\n",
       "      <td>73</td>\n",
       "      <td>254</td>\n",
       "      <td>310</td>\n",
       "      <td>313</td>\n",
       "      <td>394</td>\n",
       "      <td>246</td>\n",
       "      <td>538</td>\n",
       "      <td>192</td>\n",
       "      <td>55</td>\n",
       "      <td>110</td>\n",
       "    </tr>\n",
       "    <tr>\n",
       "      <th>7</th>\n",
       "      <td>18</td>\n",
       "      <td>39</td>\n",
       "      <td>58</td>\n",
       "      <td>75</td>\n",
       "      <td>69</td>\n",
       "      <td>68</td>\n",
       "      <td>82</td>\n",
       "      <td>166</td>\n",
       "      <td>12</td>\n",
       "      <td>35</td>\n",
       "    </tr>\n",
       "    <tr>\n",
       "      <th>8</th>\n",
       "      <td>146</td>\n",
       "      <td>87</td>\n",
       "      <td>29</td>\n",
       "      <td>21</td>\n",
       "      <td>29</td>\n",
       "      <td>40</td>\n",
       "      <td>5</td>\n",
       "      <td>46</td>\n",
       "      <td>370</td>\n",
       "      <td>112</td>\n",
       "    </tr>\n",
       "    <tr>\n",
       "      <th>9</th>\n",
       "      <td>74</td>\n",
       "      <td>170</td>\n",
       "      <td>41</td>\n",
       "      <td>81</td>\n",
       "      <td>59</td>\n",
       "      <td>49</td>\n",
       "      <td>51</td>\n",
       "      <td>178</td>\n",
       "      <td>139</td>\n",
       "      <td>407</td>\n",
       "    </tr>\n",
       "  </tbody>\n",
       "</table>\n",
       "</div>"
      ],
      "text/plain": [
       "     0    1    2    3    4    5    6    7    8    9\n",
       "0  539  149  254  171  107  167  114  148  215  152\n",
       "1   54  186   46   31   30   22   34   46   90  118\n",
       "2   23   11  107   38   78   45   44   19    7    6\n",
       "3   14   18   12   56   14   40   19   20    9    9\n",
       "4   19   30   65   29  119   37   23   78   11   21\n",
       "5   40   56   78  185  101  286   90  107   92   30\n",
       "6   73  254  310  313  394  246  538  192   55  110\n",
       "7   18   39   58   75   69   68   82  166   12   35\n",
       "8  146   87   29   21   29   40    5   46  370  112\n",
       "9   74  170   41   81   59   49   51  178  139  407"
      ]
     },
     "execution_count": 22,
     "metadata": {},
     "output_type": "execute_result"
    }
   ],
   "source": [
    "#Confusion matrix:\n",
    "from collections import Counter\n",
    "ctr2 = Counter([(x,y) for x,y in zip(cifar_predictions, test_classes)])\n",
    "Mat2=[]\n",
    "for i in range(10):\n",
    "    l=[]\n",
    "    for j in range(10):\n",
    "        l+=[ctr2[(i,j)]]\n",
    "    Mat2+=[l]\n",
    "    \n",
    "pd.DataFrame(data=Mat2)"
   ]
  },
  {
   "cell_type": "code",
   "execution_count": 23,
   "metadata": {},
   "outputs": [
    {
     "data": {
      "image/png": "[encoded data removed]",
      "text/plain": [
       "<matplotlib.figure.Figure at 0x7ff2a94a2d30>"
      ]
     },
     "metadata": {},
     "output_type": "display_data"
    }
   ],
   "source": [
    "fig = plt.figure(figsize=(10,5))\n",
    "ax = fig.add_subplot(1,1,1)\n",
    "plt.title(\"CIFAR10: Predictions vs True Targets\")\n",
    "plt.grid()\n",
    "x = ax.scatter(np.array(test_classes), np.array(cifar_predictions),s=100, c='orchid', alpha=.007)\n",
    "plt.plot(range(10), '--')\n",
    "plt.xlabel(\"True targets\")\n",
    "plt.ylabel(\"Predictions\")\n",
    "plt.show()"
   ]
  },
  {
   "cell_type": "markdown",
   "metadata": {},
   "source": [
    "**f. Performance and comparison:**"
   ]
  },
  {
   "cell_type": "markdown",
   "metadata": {},
   "source": [
    ">**Answer**\n",
    "\n",
    ">For MNIST dataset, the prediction of the classes of the 10000 test dataset took less than 10 mins with an accuracy around 70 %. This resulted in a good representation of the confusion matrix. It was clear that most of the predictions corresponded to the true targets.\n",
    "\n",
    ">On the other hand, the prediction of the classes of the 10000 test dataset of CIFAR10 took more than 47 mins with an accuracy about 28%. This resulted in not as good confusion matrix representation as MNIST's. That's why I decided to draw an oblic line to link the points in which we got a correspondance between the predictions and the targets because it wasn't as obvious as in the first representation.\n",
    "\n",
    "> The major difference in performances between the two datasets is probably caused by the increased complexity of the CIFAR10 dataset (real low resolution images vs simple handwritten images). For the MNIST, by analyzing the confusion matrix we detect slight errrors especially in the 3rd, 4th and 6th classes, with the diagonal reflecting an acceptable accuracy on predicting the right class. The confussion matrix for CIFAR10 is much more variate, as expected when we obtained sucha low accuracy. "
   ]
  },
  {
   "cell_type": "code",
   "execution_count": 24,
   "metadata": {},
   "outputs": [
    {
     "name": "stdout",
     "output_type": "stream",
     "text": [
      "CIFAR10 accuracy using random classifier 9.93 %\n",
      "MNIST accuracy using random classifier 10.17 %\n"
     ]
    }
   ],
   "source": [
    "from random import randint\n",
    "rd_classes= [randint(0,9) for i in range(10000)]\n",
    "print('CIFAR10 accuracy using random classifier',getAccuracy(test_classes,rd_classes),'%')\n",
    "print('MNIST accuracy using random classifier',getAccuracy(MNIST_test_labels,rd_classes),'%')"
   ]
  },
  {
   "cell_type": "markdown",
   "metadata": {},
   "source": [
    ">**Comment**\n",
    "\n",
    ">The accuracy of a random class labels classifier for both datasets is around 10%. Since we achieved 28% and 69% accuracies for respectively CIFAR10 and MNIST, we can say that our classifier is significantly better than a random classifier.\n",
    "\n",
    ">To improve the performance, adjusting the tunable parameters of the Naive Bayes Classifier is limited, but improving the pre-processing applied on the data and adding eventually more training data would improve the accuracy.\n"
   ]
  },
  {
   "cell_type": "markdown",
   "metadata": {},
   "source": [
    "### Question 4: Linear Regression\n",
    "******\n",
    "\n",
    "**a. Implementing the Bayesian Linear Regression:**"
   ]
  },
  {
   "cell_type": "code",
   "execution_count": 56,
   "metadata": {},
   "outputs": [],
   "source": [
    "def BLR(training_data, training_labels, test_data, test_labels, size, n_layers):\n",
    "    training_data = training_data + np.random.random([training_data.shape[0], training_data.shape[1]])  # adding noise to the data\n",
    "    X = np.ones((training_data.shape[0],training_data.shape[1]+1), dtype=training_data.dtype)\n",
    "    X[:,1:] = training_data[:,:]\n",
    "    y = training_labels\n",
    "    w = np.linalg.inv(X.T.dot(X)).dot(X.T.dot(y))\n",
    "    sigma = 1/float(len(training_labels)) * (training_labels - X.dot(w)).dot((training_labels-X.dot(w)).T)\n",
    "    coW= sigma * np.linalg.inv(X.T.dot(X))\n",
    "    preds=np.array([0.0]*len(test_data))\n",
    "    new_test_data = np.ones((test_data.shape[0],test_data.shape[1]+1), dtype=test_data.dtype)\n",
    "    new_test_data[:,1:] = test_data[:,:]\n",
    "    for i in range(10):\n",
    "        w_sample = np.random.multivariate_normal(w, coW,1)\n",
    "        preds += np.array((new_test_data.dot(w_sample.T)).T.tolist()[0])\n",
    "    acc=0.0\n",
    "    preds = preds/10.0\n",
    "    i=0\n",
    "    for item in test_labels:\n",
    "        if(round(preds[i]) == item):\n",
    "            acc+=1\n",
    "        i+=1\n",
    "    return w, sigma, preds, (acc*100)/len(test_labels), coW"
   ]
  },
  {
   "cell_type": "markdown",
   "metadata": {},
   "source": [
    "**b. Applying Regression**"
   ]
  },
  {
   "cell_type": "markdown",
   "metadata": {},
   "source": [
    ">MNIST dataset:"
   ]
  },
  {
   "cell_type": "code",
   "execution_count": 26,
   "metadata": {},
   "outputs": [],
   "source": [
    "training_data = np.array([x[1] for x in MNIST_training_data])\n",
    "test_data = np.array([x[1] for x in MNIST_test_data]).reshape(10000,784)\n",
    "training_dataset1=training_data.reshape(60000,28*28)"
   ]
  },
  {
   "cell_type": "code",
   "execution_count": 27,
   "metadata": {},
   "outputs": [],
   "source": [
    "w, sigma, MNIST_predictions, MNIST_accuracy, coW = BLR(training_dataset1, MNIST_training_labels, test_data, MNIST_test_labels, 28, 1)"
   ]
  },
  {
   "cell_type": "markdown",
   "metadata": {},
   "source": [
    ">CIFAR10 dataset:"
   ]
  },
  {
   "cell_type": "code",
   "execution_count": 28,
   "metadata": {},
   "outputs": [],
   "source": [
    "training_dataset2 = images.reshape(50000,32*32*3)"
   ]
  },
  {
   "cell_type": "code",
   "execution_count": 29,
   "metadata": {},
   "outputs": [],
   "source": [
    "w2, sigma2, cifar_predictions, cifar_accuracy, coW2 = BLR(training_dataset2, classes, test_images.reshape(10000,32*32*3), test_classes, 32, 3)"
   ]
  },
  {
   "cell_type": "markdown",
   "metadata": {},
   "source": [
    "** c. Plotting predictions vs true tagets and computing the MSE ** "
   ]
  },
  {
   "cell_type": "code",
   "execution_count": 30,
   "metadata": {},
   "outputs": [],
   "source": [
    "def mse(labels, predictions):\n",
    "    d = np.array(labels)-np.array(predictions)\n",
    "    return 1/float(len(labels)) * d.dot(d.T)"
   ]
  },
  {
   "cell_type": "code",
   "execution_count": 4,
   "metadata": {},
   "outputs": [
    {
     "name": "stdout",
     "output_type": "stream",
     "text": [
      "The MNIST Mean Squared Error:  1.9663307299145003\n"
     ]
    }
   ],
   "source": [
    "MNIST_mse = mse(MNIST_test_labels, MNIST_predictions)\n",
    "print(\"The MNIST Mean Squared Error: \",MNIST_mse)"
   ]
  },
  {
   "cell_type": "code",
   "execution_count": 32,
   "metadata": {},
   "outputs": [
    {
     "name": "stdout",
     "output_type": "stream",
     "text": [
      "The CIFAR Mean Squared Error:  8.061736786565382\n"
     ]
    }
   ],
   "source": [
    "CIFAR_mse = mse(test_classes, cifar_predictions)\n",
    "print(\"The CIFAR Mean Squared Error: \",CIFAR_mse)"
   ]
  },
  {
   "cell_type": "code",
   "execution_count": 33,
   "metadata": {},
   "outputs": [
    {
     "data": {
      "image/png": "[encoded data removed]",
      "text/plain": [
       "<matplotlib.figure.Figure at 0x7ff1f924eac8>"
      ]
     },
     "metadata": {},
     "output_type": "display_data"
    }
   ],
   "source": [
    "fig = plt.figure(figsize=(15,8))\n",
    "ax = fig.add_subplot(1,1,1)\n",
    "plt.title(\"MNIST: Predictions vs True Targets\")\n",
    "plt.grid()\n",
    "x = ax.scatter(np.array(MNIST_test_labels), np.array(MNIST_predictions), c='lightgreen', alpha=.1)\n",
    "y = ax.scatter(range(10), range(10), c='darkslategrey' )\n",
    "plt.legend([x,y], ['Predictions for each true target','Case of predictions meeting the true targets'])\n",
    "plt.xlabel(\"True targets\")\n",
    "plt.ylabel(\"Predictions\")\n",
    "plt.show()"
   ]
  },
  {
   "cell_type": "code",
   "execution_count": 3,
   "metadata": {},
   "outputs": [
    {
     "data": {
      "image/png": "[encoded data removed]",
      "text/plain": [
       "<matplotlib.figure.Figure at 0x7f8b185592e8>"
      ]
     },
     "metadata": {},
     "output_type": "display_data"
    }
   ],
   "source": [
    "fig = plt.figure(figsize=(15,8))\n",
    "ax = fig.add_subplot(1,1,1)\n",
    "plt.title(\"CIFAR10: Predictions vs True Targets\")\n",
    "plt.grid()\n",
    "x = ax.scatter(np.array(test_classes), np.array(cifar_predictions), c='cornflowerblue', alpha=.1)\n",
    "y = ax.scatter(range(10), range(10), c='crimson')\n",
    "plt.legend([x,y], ['Predictions for each true target','Case of predictions meeting the true targets'])\n",
    "plt.xlabel(\"True targets\")\n",
    "plt.ylabel(\"Predictions\")\n",
    "plt.show()"
   ]
  },
  {
   "cell_type": "markdown",
   "metadata": {},
   "source": [
    "** d. Discretizing the predictions, displaying the confusion matrices and reporting the accuracy ** "
   ]
  },
  {
   "cell_type": "markdown",
   "metadata": {},
   "source": [
    ">**Answer**\n",
    "\n",
    ">A way to discretize the predictions is to round the results. I tried other solutions using the math library's ceil and floor functions but the accuracies of the two datasets don't move in the same direction. Therefore, I ended up choosing to round the obtained predictions."
   ]
  },
  {
   "cell_type": "code",
   "execution_count": 35,
   "metadata": {},
   "outputs": [
    {
     "data": {
      "text/html": [
       "<div>\n",
       "<style scoped>\n",
       "    .dataframe tbody tr th:only-of-type {\n",
       "        vertical-align: middle;\n",
       "    }\n",
       "\n",
       "    .dataframe tbody tr th {\n",
       "        vertical-align: top;\n",
       "    }\n",
       "\n",
       "    .dataframe thead th {\n",
       "        text-align: right;\n",
       "    }\n",
       "</style>\n",
       "<table border=\"1\" class=\"dataframe\">\n",
       "  <thead>\n",
       "    <tr style=\"text-align: right;\">\n",
       "      <th></th>\n",
       "      <th>Original first 5 Predictions</th>\n",
       "      <th>Discretized first 5 Predictions</th>\n",
       "    </tr>\n",
       "  </thead>\n",
       "  <tbody>\n",
       "    <tr>\n",
       "      <th>0</th>\n",
       "      <td>7.576902</td>\n",
       "      <td>8.0</td>\n",
       "    </tr>\n",
       "    <tr>\n",
       "      <th>1</th>\n",
       "      <td>2.750695</td>\n",
       "      <td>3.0</td>\n",
       "    </tr>\n",
       "    <tr>\n",
       "      <th>2</th>\n",
       "      <td>0.575386</td>\n",
       "      <td>1.0</td>\n",
       "    </tr>\n",
       "    <tr>\n",
       "      <th>3</th>\n",
       "      <td>0.794431</td>\n",
       "      <td>1.0</td>\n",
       "    </tr>\n",
       "    <tr>\n",
       "      <th>4</th>\n",
       "      <td>3.692337</td>\n",
       "      <td>4.0</td>\n",
       "    </tr>\n",
       "  </tbody>\n",
       "</table>\n",
       "</div>"
      ],
      "text/plain": [
       "   Original first 5 Predictions  Discretized first 5 Predictions\n",
       "0                      7.576902                              8.0\n",
       "1                      2.750695                              3.0\n",
       "2                      0.575386                              1.0\n",
       "3                      0.794431                              1.0\n",
       "4                      3.692337                              4.0"
      ]
     },
     "execution_count": 35,
     "metadata": {},
     "output_type": "execute_result"
    }
   ],
   "source": [
    "#MNIST\n",
    "import pandas as pd\n",
    "discretized_preds = [round(x) for x in MNIST_predictions]\n",
    "pd.DataFrame(np.column_stack([MNIST_predictions[:5], discretized_preds[:5]]),\\\n",
    "             columns=['Original first 5 Predictions', 'Discretized first 5 Predictions' ])"
   ]
  },
  {
   "cell_type": "code",
   "execution_count": 36,
   "metadata": {},
   "outputs": [
    {
     "data": {
      "text/html": [
       "<div>\n",
       "<style scoped>\n",
       "    .dataframe tbody tr th:only-of-type {\n",
       "        vertical-align: middle;\n",
       "    }\n",
       "\n",
       "    .dataframe tbody tr th {\n",
       "        vertical-align: top;\n",
       "    }\n",
       "\n",
       "    .dataframe thead th {\n",
       "        text-align: right;\n",
       "    }\n",
       "</style>\n",
       "<table border=\"1\" class=\"dataframe\">\n",
       "  <thead>\n",
       "    <tr style=\"text-align: right;\">\n",
       "      <th></th>\n",
       "      <th>Original first 5 Predictions</th>\n",
       "      <th>Discretized first 5 Predictions</th>\n",
       "    </tr>\n",
       "  </thead>\n",
       "  <tbody>\n",
       "    <tr>\n",
       "      <th>0</th>\n",
       "      <td>4.651242</td>\n",
       "      <td>5.0</td>\n",
       "    </tr>\n",
       "    <tr>\n",
       "      <th>1</th>\n",
       "      <td>5.612981</td>\n",
       "      <td>6.0</td>\n",
       "    </tr>\n",
       "    <tr>\n",
       "      <th>2</th>\n",
       "      <td>5.339871</td>\n",
       "      <td>5.0</td>\n",
       "    </tr>\n",
       "    <tr>\n",
       "      <th>3</th>\n",
       "      <td>4.093843</td>\n",
       "      <td>4.0</td>\n",
       "    </tr>\n",
       "    <tr>\n",
       "      <th>4</th>\n",
       "      <td>4.540033</td>\n",
       "      <td>5.0</td>\n",
       "    </tr>\n",
       "  </tbody>\n",
       "</table>\n",
       "</div>"
      ],
      "text/plain": [
       "   Original first 5 Predictions  Discretized first 5 Predictions\n",
       "0                      4.651242                              5.0\n",
       "1                      5.612981                              6.0\n",
       "2                      5.339871                              5.0\n",
       "3                      4.093843                              4.0\n",
       "4                      4.540033                              5.0"
      ]
     },
     "execution_count": 36,
     "metadata": {},
     "output_type": "execute_result"
    }
   ],
   "source": [
    "#CIFAR10\n",
    "discretized_preds2 = [round(x) for x in cifar_predictions]\n",
    "pd.DataFrame(np.column_stack([cifar_predictions[:5], discretized_preds2[:5]]),\\\n",
    "             columns=['Original first 5 Predictions', 'Discretized first 5 Predictions' ])"
   ]
  },
  {
   "cell_type": "code",
   "execution_count": 37,
   "metadata": {},
   "outputs": [
    {
     "data": {
      "text/html": [
       "<div>\n",
       "<style scoped>\n",
       "    .dataframe tbody tr th:only-of-type {\n",
       "        vertical-align: middle;\n",
       "    }\n",
       "\n",
       "    .dataframe tbody tr th {\n",
       "        vertical-align: top;\n",
       "    }\n",
       "\n",
       "    .dataframe thead th {\n",
       "        text-align: right;\n",
       "    }\n",
       "</style>\n",
       "<table border=\"1\" class=\"dataframe\">\n",
       "  <thead>\n",
       "    <tr style=\"text-align: right;\">\n",
       "      <th></th>\n",
       "      <th>0</th>\n",
       "      <th>1</th>\n",
       "      <th>2</th>\n",
       "      <th>3</th>\n",
       "      <th>4</th>\n",
       "      <th>5</th>\n",
       "      <th>6</th>\n",
       "      <th>7</th>\n",
       "      <th>8</th>\n",
       "      <th>9</th>\n",
       "    </tr>\n",
       "  </thead>\n",
       "  <tbody>\n",
       "    <tr>\n",
       "      <th>0</th>\n",
       "      <td>185</td>\n",
       "      <td>122</td>\n",
       "      <td>2</td>\n",
       "      <td>1</td>\n",
       "      <td>0</td>\n",
       "      <td>0</td>\n",
       "      <td>13</td>\n",
       "      <td>0</td>\n",
       "      <td>0</td>\n",
       "      <td>0</td>\n",
       "    </tr>\n",
       "    <tr>\n",
       "      <th>1</th>\n",
       "      <td>241</td>\n",
       "      <td>621</td>\n",
       "      <td>36</td>\n",
       "      <td>26</td>\n",
       "      <td>0</td>\n",
       "      <td>0</td>\n",
       "      <td>21</td>\n",
       "      <td>0</td>\n",
       "      <td>0</td>\n",
       "      <td>0</td>\n",
       "    </tr>\n",
       "    <tr>\n",
       "      <th>2</th>\n",
       "      <td>249</td>\n",
       "      <td>197</td>\n",
       "      <td>213</td>\n",
       "      <td>230</td>\n",
       "      <td>24</td>\n",
       "      <td>0</td>\n",
       "      <td>93</td>\n",
       "      <td>0</td>\n",
       "      <td>3</td>\n",
       "      <td>0</td>\n",
       "    </tr>\n",
       "    <tr>\n",
       "      <th>3</th>\n",
       "      <td>170</td>\n",
       "      <td>48</td>\n",
       "      <td>465</td>\n",
       "      <td>463</td>\n",
       "      <td>245</td>\n",
       "      <td>0</td>\n",
       "      <td>189</td>\n",
       "      <td>0</td>\n",
       "      <td>4</td>\n",
       "      <td>0</td>\n",
       "    </tr>\n",
       "    <tr>\n",
       "      <th>4</th>\n",
       "      <td>75</td>\n",
       "      <td>10</td>\n",
       "      <td>233</td>\n",
       "      <td>247</td>\n",
       "      <td>489</td>\n",
       "      <td>72</td>\n",
       "      <td>328</td>\n",
       "      <td>0</td>\n",
       "      <td>25</td>\n",
       "      <td>0</td>\n",
       "    </tr>\n",
       "    <tr>\n",
       "      <th>5</th>\n",
       "      <td>25</td>\n",
       "      <td>1</td>\n",
       "      <td>45</td>\n",
       "      <td>26</td>\n",
       "      <td>215</td>\n",
       "      <td>446</td>\n",
       "      <td>259</td>\n",
       "      <td>27</td>\n",
       "      <td>77</td>\n",
       "      <td>2</td>\n",
       "    </tr>\n",
       "    <tr>\n",
       "      <th>6</th>\n",
       "      <td>4</td>\n",
       "      <td>1</td>\n",
       "      <td>6</td>\n",
       "      <td>5</td>\n",
       "      <td>26</td>\n",
       "      <td>350</td>\n",
       "      <td>82</td>\n",
       "      <td>251</td>\n",
       "      <td>189</td>\n",
       "      <td>25</td>\n",
       "    </tr>\n",
       "    <tr>\n",
       "      <th>7</th>\n",
       "      <td>4</td>\n",
       "      <td>0</td>\n",
       "      <td>0</td>\n",
       "      <td>2</td>\n",
       "      <td>1</td>\n",
       "      <td>103</td>\n",
       "      <td>13</td>\n",
       "      <td>547</td>\n",
       "      <td>281</td>\n",
       "      <td>123</td>\n",
       "    </tr>\n",
       "    <tr>\n",
       "      <th>8</th>\n",
       "      <td>1</td>\n",
       "      <td>0</td>\n",
       "      <td>0</td>\n",
       "      <td>0</td>\n",
       "      <td>0</td>\n",
       "      <td>23</td>\n",
       "      <td>1</td>\n",
       "      <td>152</td>\n",
       "      <td>254</td>\n",
       "      <td>329</td>\n",
       "    </tr>\n",
       "    <tr>\n",
       "      <th>9</th>\n",
       "      <td>0</td>\n",
       "      <td>0</td>\n",
       "      <td>0</td>\n",
       "      <td>0</td>\n",
       "      <td>0</td>\n",
       "      <td>5</td>\n",
       "      <td>0</td>\n",
       "      <td>22</td>\n",
       "      <td>137</td>\n",
       "      <td>397</td>\n",
       "    </tr>\n",
       "  </tbody>\n",
       "</table>\n",
       "</div>"
      ],
      "text/plain": [
       "     0    1    2    3    4    5    6    7    8    9\n",
       "0  185  122    2    1    0    0   13    0    0    0\n",
       "1  241  621   36   26    0    0   21    0    0    0\n",
       "2  249  197  213  230   24    0   93    0    3    0\n",
       "3  170   48  465  463  245    0  189    0    4    0\n",
       "4   75   10  233  247  489   72  328    0   25    0\n",
       "5   25    1   45   26  215  446  259   27   77    2\n",
       "6    4    1    6    5   26  350   82  251  189   25\n",
       "7    4    0    0    2    1  103   13  547  281  123\n",
       "8    1    0    0    0    0   23    1  152  254  329\n",
       "9    0    0    0    0    0    5    0   22  137  397"
      ]
     },
     "execution_count": 37,
     "metadata": {},
     "output_type": "execute_result"
    }
   ],
   "source": [
    "#Confusion matrix:\n",
    "import pandas as pd\n",
    "from collections import Counter\n",
    "ctr1 = Counter([(x,y) for x,y in zip(discretized_preds, MNIST_test_labels)])\n",
    "Mat1=[]\n",
    "for i in range(10):\n",
    "    l=[]\n",
    "    for j in range(10):\n",
    "        l+=[ctr1[(i,j)]]\n",
    "    Mat1+=[l]\n",
    "    \n",
    "pd.DataFrame(data=Mat1)"
   ]
  },
  {
   "cell_type": "code",
   "execution_count": 3,
   "metadata": {},
   "outputs": [
    {
     "data": {
      "text/html": [
       "<div>\n",
       "<style scoped>\n",
       "    .dataframe tbody tr th:only-of-type {\n",
       "        vertical-align: middle;\n",
       "    }\n",
       "\n",
       "    .dataframe tbody tr th {\n",
       "        vertical-align: top;\n",
       "    }\n",
       "\n",
       "    .dataframe thead th {\n",
       "        text-align: right;\n",
       "    }\n",
       "</style>\n",
       "<table border=\"1\" class=\"dataframe\">\n",
       "  <thead>\n",
       "    <tr style=\"text-align: right;\">\n",
       "      <th></th>\n",
       "      <th>0</th>\n",
       "      <th>1</th>\n",
       "      <th>2</th>\n",
       "      <th>3</th>\n",
       "      <th>4</th>\n",
       "      <th>5</th>\n",
       "      <th>6</th>\n",
       "      <th>7</th>\n",
       "      <th>8</th>\n",
       "      <th>9</th>\n",
       "    </tr>\n",
       "  </thead>\n",
       "  <tbody>\n",
       "    <tr>\n",
       "      <th>0</th>\n",
       "      <td>1</td>\n",
       "      <td>2</td>\n",
       "      <td>0</td>\n",
       "      <td>3</td>\n",
       "      <td>0</td>\n",
       "      <td>2</td>\n",
       "      <td>0</td>\n",
       "      <td>0</td>\n",
       "      <td>0</td>\n",
       "      <td>0</td>\n",
       "    </tr>\n",
       "    <tr>\n",
       "      <th>1</th>\n",
       "      <td>11</td>\n",
       "      <td>12</td>\n",
       "      <td>2</td>\n",
       "      <td>5</td>\n",
       "      <td>2</td>\n",
       "      <td>2</td>\n",
       "      <td>1</td>\n",
       "      <td>2</td>\n",
       "      <td>1</td>\n",
       "      <td>2</td>\n",
       "    </tr>\n",
       "    <tr>\n",
       "      <th>2</th>\n",
       "      <td>41</td>\n",
       "      <td>46</td>\n",
       "      <td>37</td>\n",
       "      <td>38</td>\n",
       "      <td>25</td>\n",
       "      <td>47</td>\n",
       "      <td>18</td>\n",
       "      <td>17</td>\n",
       "      <td>11</td>\n",
       "      <td>11</td>\n",
       "    </tr>\n",
       "    <tr>\n",
       "      <th>3</th>\n",
       "      <td>223</td>\n",
       "      <td>164</td>\n",
       "      <td>165</td>\n",
       "      <td>161</td>\n",
       "      <td>150</td>\n",
       "      <td>170</td>\n",
       "      <td>117</td>\n",
       "      <td>99</td>\n",
       "      <td>76</td>\n",
       "      <td>76</td>\n",
       "    </tr>\n",
       "    <tr>\n",
       "      <th>4</th>\n",
       "      <td>391</td>\n",
       "      <td>316</td>\n",
       "      <td>407</td>\n",
       "      <td>379</td>\n",
       "      <td>396</td>\n",
       "      <td>358</td>\n",
       "      <td>306</td>\n",
       "      <td>286</td>\n",
       "      <td>309</td>\n",
       "      <td>192</td>\n",
       "    </tr>\n",
       "    <tr>\n",
       "      <th>5</th>\n",
       "      <td>232</td>\n",
       "      <td>266</td>\n",
       "      <td>287</td>\n",
       "      <td>298</td>\n",
       "      <td>317</td>\n",
       "      <td>313</td>\n",
       "      <td>364</td>\n",
       "      <td>311</td>\n",
       "      <td>403</td>\n",
       "      <td>340</td>\n",
       "    </tr>\n",
       "    <tr>\n",
       "      <th>6</th>\n",
       "      <td>78</td>\n",
       "      <td>136</td>\n",
       "      <td>77</td>\n",
       "      <td>90</td>\n",
       "      <td>90</td>\n",
       "      <td>87</td>\n",
       "      <td>151</td>\n",
       "      <td>194</td>\n",
       "      <td>157</td>\n",
       "      <td>245</td>\n",
       "    </tr>\n",
       "    <tr>\n",
       "      <th>7</th>\n",
       "      <td>18</td>\n",
       "      <td>45</td>\n",
       "      <td>19</td>\n",
       "      <td>19</td>\n",
       "      <td>16</td>\n",
       "      <td>18</td>\n",
       "      <td>34</td>\n",
       "      <td>64</td>\n",
       "      <td>33</td>\n",
       "      <td>93</td>\n",
       "    </tr>\n",
       "    <tr>\n",
       "      <th>8</th>\n",
       "      <td>4</td>\n",
       "      <td>5</td>\n",
       "      <td>2</td>\n",
       "      <td>6</td>\n",
       "      <td>4</td>\n",
       "      <td>3</td>\n",
       "      <td>8</td>\n",
       "      <td>19</td>\n",
       "      <td>7</td>\n",
       "      <td>27</td>\n",
       "    </tr>\n",
       "    <tr>\n",
       "      <th>9</th>\n",
       "      <td>1</td>\n",
       "      <td>8</td>\n",
       "      <td>4</td>\n",
       "      <td>0</td>\n",
       "      <td>0</td>\n",
       "      <td>0</td>\n",
       "      <td>1</td>\n",
       "      <td>7</td>\n",
       "      <td>3</td>\n",
       "      <td>6</td>\n",
       "    </tr>\n",
       "  </tbody>\n",
       "</table>\n",
       "</div>"
      ],
      "text/plain": [
       "     0    1    2    3    4    5    6    7    8    9\n",
       "0    1    2    0    3    0    2    0    0    0    0\n",
       "1   11   12    2    5    2    2    1    2    1    2\n",
       "2   41   46   37   38   25   47   18   17   11   11\n",
       "3  223  164  165  161  150  170  117   99   76   76\n",
       "4  391  316  407  379  396  358  306  286  309  192\n",
       "5  232  266  287  298  317  313  364  311  403  340\n",
       "6   78  136   77   90   90   87  151  194  157  245\n",
       "7   18   45   19   19   16   18   34   64   33   93\n",
       "8    4    5    2    6    4    3    8   19    7   27\n",
       "9    1    8    4    0    0    0    1    7    3    6"
      ]
     },
     "execution_count": 3,
     "metadata": {},
     "output_type": "execute_result"
    }
   ],
   "source": [
    "#Confusion matrix:\n",
    "from collections import Counter\n",
    "ctr2 = Counter([(x,y) for x,y in zip(discretized_preds2, test_classes)])\n",
    "Mat2=[]\n",
    "for i in range(10):\n",
    "    l=[]\n",
    "    for j in range(10):\n",
    "        l+=[ctr2[(i,j)]]\n",
    "    Mat2+=[l]\n",
    "    \n",
    "pd.DataFrame(data=Mat2)"
   ]
  },
  {
   "cell_type": "code",
   "execution_count": 39,
   "metadata": {},
   "outputs": [
    {
     "name": "stdout",
     "output_type": "stream",
     "text": [
      "MNIST accuracy:  36.97 %\n"
     ]
    }
   ],
   "source": [
    "print('MNIST accuracy: ', MNIST_accuracy,'%')  "
   ]
  },
  {
   "cell_type": "code",
   "execution_count": 40,
   "metadata": {},
   "outputs": [
    {
     "name": "stdout",
     "output_type": "stream",
     "text": [
      "CIFAR10 accuracy:  11.48 %\n"
     ]
    }
   ],
   "source": [
    "print('CIFAR10 accuracy: ', cifar_accuracy,'%')  "
   ]
  },
  {
   "cell_type": "markdown",
   "metadata": {},
   "source": [
    "** e. Regression performance w.r.t classification performance** "
   ]
  },
  {
   "cell_type": "markdown",
   "metadata": {},
   "source": [
    ">**Answer**\n",
    "\n",
    ">Regression performance was significantly lower compared to the classification performance in terms of accuracy. However, the prediction through regression was faster.\n",
    "\n",
    "|Dataset             | Classification Accuracy | Regression Accuracy |\n",
    "|:------------------:|:-------------------:|:-----------------------:|\n",
    "|MNIST               |      69%            |        37%              |\n",
    "|CIFAR10             |      28%            |        11%              |\n",
    "\n",
    ">This is quite expected because we're trying to apply regression for a classification problem. In practice we could achieve considerable results given that we apply the necessairy and adeqaute pre processings. MLE and the Bayesian approach lead to the same result meaning that for a large number of samples the expected prediction is equal to the MLE prediction. This is logical since the posterior distribution for W becomes more and more certain the more training samples we have (the variances for the W values decrease). Taking expected values gets closer to the actual value which also happens with the MLE estimator when adding more data."
   ]
  },
  {
   "cell_type": "markdown",
   "metadata": {},
   "source": [
    "** f. Limitation of using regression for this task ** "
   ]
  },
  {
   "cell_type": "markdown",
   "metadata": {},
   "source": [
    ">**Answer**\n",
    "\n",
    ">The main limitation of using regression is that there is no real linear relationship between classes (the output) and images (the input). This is in addition to having a lot of noise and outliers in our datasets.\n",
    "We have to assign a fixed weight to each pixel (plus an additional bias term). We could think of more flexible models like neural networks that only take certain combinations of pixels into account if they exceed a threshold value. These can even be extended to convolutional neural networks that take patterns inside images into account. Here the linear regression is clearly inferior because it does not produce translation or scale-invariant results. Shrinking the digit on an MNIST picture would make the trained regression model useless. Moreover, the linear regression does not take any care of structure in the data (which is important for image analysis). Shuffling the pixels and retraining the models would simply result in shuffled weights. For CIFAR we clearly need to incorporate the structure of the images into our model. Convolutional neural networks are known to work quite well."
   ]
  },
  {
   "cell_type": "markdown",
   "metadata": {
    "deletable": true,
    "editable": true
   },
   "source": [
    "# Towards high Performance. Convolutional Layers"
   ]
  },
  {
   "cell_type": "markdown",
   "metadata": {},
   "source": [
    "Our approach in order to achieve a considerably high performance in or models is to apply linear regression on the convolutional output of LeNet5. In order to train this CNN we use the keras Python library which makes it very easy to train neural networks and alter the architecture afterwards.\n"
   ]
  },
  {
   "cell_type": "code",
   "execution_count": 4,
   "metadata": {},
   "outputs": [
    {
     "name": "stdout",
     "output_type": "stream",
     "text": [
      "Requirement already satisfied: dill in /usr/local/lib/python3.5/dist-packages\n",
      "\u001b[33mYou are using pip version 9.0.1, however version 10.0.1 is available.\n",
      "You should consider upgrading via the 'pip install --upgrade pip' command.\u001b[0m\n"
     ]
    }
   ],
   "source": [
    "# !pip install dill   # this saves an instance of the notebook to avoid retraininig everything after a kernel reset"
   ]
  },
  {
   "cell_type": "code",
   "execution_count": 43,
   "metadata": {},
   "outputs": [],
   "source": [
    "# !pip install dill\n",
    "# import dill\n",
    "# dill.dump_session('notebook_env.db')"
   ]
  },
  {
   "cell_type": "code",
   "execution_count": 2,
   "metadata": {},
   "outputs": [
    {
     "name": "stdout",
     "output_type": "stream",
     "text": [
      "Collecting dill\n",
      "  Downloading https://files.pythonhosted.org/packages/91/a0/19d4d31dee064fc553ae01263b5c55e7fb93daff03a69debbedee647c5a0/dill-0.2.7.1.tar.gz (64kB)\n",
      "\u001b[K    100% |################################| 71kB 1.9MB/s ta 0:00:01\n",
      "\u001b[?25hBuilding wheels for collected packages: dill\n",
      "  Running setup.py bdist_wheel for dill ... \u001b[?25ldone\n",
      "\u001b[?25h  Stored in directory: /root/.cache/pip/wheels/99/c4/ed/1b64d2d5809e60d5a3685530432f6159d6a9959739facb61f2\n",
      "Successfully built dill\n",
      "Installing collected packages: dill\n",
      "Successfully installed dill-0.2.7.1\n",
      "\u001b[33mYou are using pip version 9.0.1, however version 10.0.1 is available.\n",
      "You should consider upgrading via the 'pip install --upgrade pip' command.\u001b[0m\n"
     ]
    }
   ],
   "source": [
    "# !pip install dill\n",
    "# import dill\n",
    "# dill.load_session('notebook_env.db')"
   ]
  },
  {
   "cell_type": "code",
   "execution_count": 3,
   "metadata": {},
   "outputs": [
    {
     "name": "stdout",
     "output_type": "stream",
     "text": [
      "Requirement already satisfied: keras in /usr/local/lib/python3.5/dist-packages\n",
      "Requirement already satisfied: numpy>=1.9.1 in /usr/local/lib/python3.5/dist-packages (from keras)\n",
      "Requirement already satisfied: six>=1.9.0 in /usr/local/lib/python3.5/dist-packages (from keras)\n",
      "Requirement already satisfied: h5py in /usr/local/lib/python3.5/dist-packages (from keras)\n",
      "Requirement already satisfied: scipy>=0.14 in /usr/local/lib/python3.5/dist-packages (from keras)\n",
      "Requirement already satisfied: pyyaml in /usr/local/lib/python3.5/dist-packages (from keras)\n",
      "\u001b[33mYou are using pip version 9.0.1, however version 10.0.1 is available.\n",
      "You should consider upgrading via the 'pip install --upgrade pip' command.\u001b[0m\n"
     ]
    }
   ],
   "source": [
    "!pip install keras  #we use keras for it's ready and flexible CNN models and datasets"
   ]
  },
  {
   "cell_type": "code",
   "execution_count": 4,
   "metadata": {},
   "outputs": [
    {
     "name": "stderr",
     "output_type": "stream",
     "text": [
      "/usr/local/lib/python3.5/dist-packages/h5py/__init__.py:36: FutureWarning: Conversion of the second argument of issubdtype from `float` to `np.floating` is deprecated. In future, it will be treated as `np.float64 == np.dtype(float).type`.\n",
      "  from ._conv import register_converters as _register_converters\n",
      "Using TensorFlow backend.\n"
     ]
    },
    {
     "name": "stdout",
     "output_type": "stream",
     "text": [
      "x_train shape: (60000, 28, 28, 1)\n",
      "60000 train samples\n",
      "10000 test samples\n",
      "Train on 60000 samples, validate on 10000 samples\n",
      "Epoch 1/10\n",
      "60000/60000 [==============================] - 25s 412us/step - loss: 0.6452 - acc: 0.7585 - val_loss: 0.4623 - val_acc: 0.8324\n",
      "Epoch 2/10\n",
      "60000/60000 [==============================] - 23s 383us/step - loss: 0.3926 - acc: 0.8549 - val_loss: 0.3921 - val_acc: 0.8568\n",
      "Epoch 3/10\n",
      "60000/60000 [==============================] - 23s 387us/step - loss: 0.3373 - acc: 0.8758 - val_loss: 0.3571 - val_acc: 0.8715\n",
      "Epoch 4/10\n",
      "60000/60000 [==============================] - 22s 374us/step - loss: 0.3076 - acc: 0.8871 - val_loss: 0.3415 - val_acc: 0.8773\n",
      "Epoch 5/10\n",
      "60000/60000 [==============================] - 22s 375us/step - loss: 0.2862 - acc: 0.8949 - val_loss: 0.3393 - val_acc: 0.8740\n",
      "Epoch 6/10\n",
      "60000/60000 [==============================] - 23s 380us/step - loss: 0.2688 - acc: 0.9008 - val_loss: 0.3060 - val_acc: 0.8898\n",
      "Epoch 7/10\n",
      "60000/60000 [==============================] - 22s 366us/step - loss: 0.2542 - acc: 0.9053 - val_loss: 0.3093 - val_acc: 0.8857\n",
      "Epoch 8/10\n",
      "60000/60000 [==============================] - 22s 362us/step - loss: 0.2424 - acc: 0.9092 - val_loss: 0.3041 - val_acc: 0.8878\n",
      "Epoch 9/10\n",
      "60000/60000 [==============================] - 21s 348us/step - loss: 0.2288 - acc: 0.9157 - val_loss: 0.3193 - val_acc: 0.8882\n",
      "Epoch 10/10\n",
      "60000/60000 [==============================] - 22s 361us/step - loss: 0.2203 - acc: 0.9173 - val_loss: 0.2830 - val_acc: 0.8969\n",
      "Test loss: 0.28298034509420394\n",
      "Test accuracy: 0.8969\n"
     ]
    }
   ],
   "source": [
    "from __future__ import print_function\n",
    "import keras\n",
    "from keras.datasets import fashion_mnist\n",
    "from keras.models import Sequential\n",
    "from keras.layers import Dense, Dropout, Flatten\n",
    "from keras.layers import Conv2D, MaxPooling2D\n",
    "from keras import backend as K\n",
    "\n",
    "batch_size = 128\n",
    "num_classes = 10\n",
    "epochs = 10\n",
    "\n",
    "# input image dimensions\n",
    "img_rows, img_cols = 28, 28\n",
    "\n",
    "# the data, split between train and test sets\n",
    "(x_train, y_train), (x_test, y_test) = fashion_mnist.load_data()\n",
    "\n",
    "if K.image_data_format() == 'channels_first':\n",
    "    x_train = x_train.reshape(x_train.shape[0], 1, img_rows, img_cols)\n",
    "    x_test = x_test.reshape(x_test.shape[0], 1, img_rows, img_cols)\n",
    "    input_shape = (1, img_rows, img_cols)\n",
    "else:\n",
    "    x_train = x_train.reshape(x_train.shape[0], img_rows, img_cols, 1)\n",
    "    x_test = x_test.reshape(x_test.shape[0], img_rows, img_cols, 1)\n",
    "    input_shape = (img_rows, img_cols, 1)\n",
    "\n",
    "x_train = x_train.astype('float32')\n",
    "x_test = x_test.astype('float32')\n",
    "x_train /= 255\n",
    "x_test /= 255\n",
    "print('x_train shape:', x_train.shape)\n",
    "print(x_train.shape[0], 'train samples')\n",
    "print(x_test.shape[0], 'test samples')\n",
    "\n",
    "# convert class vectors to binary class matrices\n",
    "y_train = keras.utils.to_categorical(y_train, num_classes)\n",
    "y_test = keras.utils.to_categorical(y_test, num_classes)\n",
    "\n",
    "model = Sequential()\n",
    "model.add(Conv2D(6, (5, 5), padding=\"same\", activation='relu',input_shape=input_shape))\n",
    "model.add(MaxPooling2D(pool_size=(2, 2),strides=(2, 2)))\n",
    "model.add(Conv2D(16, (5, 5), padding=\"valid\", activation='relu'))\n",
    "model.add(MaxPooling2D(pool_size=(2, 2),strides=(2, 2)))\n",
    "model.add(Flatten())\n",
    "## we stop here at the flatten layer level in order to use the bayesian regressor\n",
    "\n",
    "model.add(Dense(120, activation='relu'))\n",
    "model.add(Dense(84, activation='relu'))\n",
    "model.add(Dense(num_classes, activation='softmax'))\n",
    "\n",
    "model.compile(loss=keras.losses.categorical_crossentropy,\n",
    "              optimizer=keras.optimizers.Adadelta(),\n",
    "              metrics=['accuracy'])\n",
    "\n",
    "model.fit(x_train, y_train,\n",
    "          batch_size=batch_size,\n",
    "          epochs=epochs,\n",
    "          verbose=1,\n",
    "          validation_data=(x_test, y_test))\n",
    "score = model.evaluate(x_test, y_test, verbose=0)\n",
    "print('Test loss:', score[0])\n",
    "print('Test accuracy:', score[1])"
   ]
  },
  {
   "cell_type": "code",
   "execution_count": 16,
   "metadata": {},
   "outputs": [],
   "source": [
    "# we train our model for another 20 epochs to improve the accuracy\n",
    "# model.fit(x_train, y_train,\n",
    "#           batch_size=batch_size,\n",
    "#           epochs=20,\n",
    "#           verbose=1,\n",
    "#           validation_data=(x_test, y_test))\n",
    "#we commented out the results in order to save space"
   ]
  },
  {
   "cell_type": "code",
   "execution_count": 10,
   "metadata": {},
   "outputs": [
    {
     "name": "stdout",
     "output_type": "stream",
     "text": [
      "Test loss: 0.41724042314887044\n",
      "Test accuracy: 0.8999\n"
     ]
    }
   ],
   "source": [
    "score = model.evaluate(x_test, y_test, verbose=0)\n",
    "print('Test loss:', score[0])\n",
    "print('Test accuracy:', score[1])"
   ]
  },
  {
   "cell_type": "code",
   "execution_count": 11,
   "metadata": {},
   "outputs": [],
   "source": [
    "#it would be wise to save the model\n",
    "from keras.models import load_model\n",
    "model.save('my_model.h5')  # creates a HDF5 file 'my_model.h5'\n",
    "#model = load_model('my_model.h5')"
   ]
  },
  {
   "cell_type": "code",
   "execution_count": 12,
   "metadata": {},
   "outputs": [],
   "source": [
    "# popping 3 last layers -> output of the flatten layer after the convolutions# poppin \n",
    "model.layers.pop(); model.layers.pop(); model.layers.pop()\n",
    "model.outputs = [model.layers[-1].output]\n",
    "model.layers[-1].outbound_nodes = []\n",
    "model.compile(loss=keras.losses.categorical_crossentropy,\n",
    "              optimizer=keras.optimizers.Adadelta(),\n",
    "              metrics=['accuracy'])"
   ]
  },
  {
   "cell_type": "code",
   "execution_count": 14,
   "metadata": {},
   "outputs": [],
   "source": [
    "#preparing the inputs for the NBC\n",
    "mnist_Xconv_train = model.predict(x_train)\n",
    "mnist_Xconv_test = model.predict(x_test)   \n",
    "\n",
    "#reshaping the inputs to align them with my code\n",
    "list_train = [elem for elem in mnist_Xconv_train.reshape(60000,20,20)]\n",
    "list_test = [elem for elem in mnist_Xconv_test.reshape(10000,20,20)]\n",
    "\n",
    "list_y_train = [np.argmax(y_train[i]) for i in range(len(y_train))]\n",
    "list_y_test = [np.argmax(y_test[i]) for i in range(len(y_test))]"
   ]
  },
  {
   "cell_type": "code",
   "execution_count": 2,
   "metadata": {},
   "outputs": [],
   "source": [
    "predictions= NBC(list_train, list_y_train, list_test, list_y_test, 20, 1) "
   ]
  },
  {
   "cell_type": "raw",
   "metadata": {},
   "source": [
    "These are the primary results I obtained after training the model for 10 epochs\n",
    "We can improve these results by training the model in more epochs or redefine the structure of the LeNet model.\n",
    "\n",
    "Time spent on prediction:  98.19434976577759\n",
    "Test Accuracy:  64.0 %\n",
    "Log-likelihood:  -3344123969333053.5"
   ]
  }
 ],
 "metadata": {
  "kernelspec": {
   "display_name": "Python 3",
   "language": "python",
   "name": "python3"
  },
  "language_info": {
   "codemirror_mode": {
    "name": "ipython",
    "version": 3
   },
   "file_extension": ".py",
   "mimetype": "text/x-python",
   "name": "python",
   "nbconvert_exporter": "python",
   "pygments_lexer": "ipython3",
   "version": "3.5.4"
  }
 },
 "nbformat": 4,
 "nbformat_minor": 2
}
